{
 "cells": [
  {
   "cell_type": "code",
   "execution_count": null,
   "id": "75503651",
   "metadata": {},
   "outputs": [],
   "source": [
    "# Personalized Learning Model for Neurodivergent Students \n",
    "# Curriculum Optimization\n",
    "\n",
    "# Carly Carroll"
   ]
  },
  {
   "cell_type": "code",
   "execution_count": 2,
   "id": "89cf10a8",
   "metadata": {},
   "outputs": [],
   "source": [
    "##### LOAD LIBRARIES #####\n",
    "\n",
    "import pandas as pd\n",
    "import numpy as np\n",
    "import matplotlib.pyplot as plt\n",
    "import seaborn as sns"
   ]
  },
  {
   "cell_type": "code",
   "execution_count": 3,
   "id": "d8faccd2",
   "metadata": {},
   "outputs": [],
   "source": [
    "##### LOAD CSV FILE #####\n",
    "\n",
    "engagement_profile = pd.read_csv(\"engagement_profile_clean.csv\")\n",
    "\n",
    "# add binary target for curriculum adaptation logic\n",
    "engagement_profile['final_result_binary'] = engagement_profile['final_result'].map({\n",
    "    'Pass': 1, 'Fail': 0, 'Withdrawn': 0\n",
    "})"
   ]
  },
  {
   "cell_type": "code",
   "execution_count": 4,
   "id": "240e37a4",
   "metadata": {},
   "outputs": [],
   "source": [
    "##### DEFINE ENGAGEMENT PROFILE TYPES #####\n",
    "\n",
    "engagement_profile['engagement_type'] = 'Low Clicker'\n",
    "engagement_profile.loc[engagement_profile['sum_click'] > 100, 'engagement_type'] = 'Moderate Clicker'\n",
    "engagement_profile.loc[engagement_profile['sum_click'] > 300, 'engagement_type'] = 'High Clicker'"
   ]
  },
  {
   "cell_type": "code",
   "execution_count": 5,
   "id": "7c621e48",
   "metadata": {},
   "outputs": [],
   "source": [
    "##### ASSIGN CURRICULUM PATHWAYS #####\n",
    "\n",
    "curriculum_paths = {\n",
    "    'High Clicker': ['Core Modules', 'Advanced Modules', 'Capstone Project'],\n",
    "    'Moderate Clicker': ['Core Modules', 'Skill Builders', 'Capstone Project'],\n",
    "    'Low Clicker': ['Core Modules', 'Remedial Support', 'Skill Builders', 'Capstone Project']\n",
    "}\n",
    "\n",
    "engagement_profile['curriculum_path'] = engagement_profile['engagement_type'].map(curriculum_paths)"
   ]
  },
  {
   "cell_type": "code",
   "execution_count": 6,
   "id": "7808f1e4",
   "metadata": {},
   "outputs": [
    {
     "data": {
      "image/png": "[encoded data removed]",
      "text/plain": [
       "<Figure size 576x360 with 1 Axes>"
      ]
     },
     "metadata": {
      "needs_background": "light"
     },
     "output_type": "display_data"
    },
    {
     "data": {
      "text/html": [
       "<div>\n",
       "<style scoped>\n",
       "    .dataframe tbody tr th:only-of-type {\n",
       "        vertical-align: middle;\n",
       "    }\n",
       "\n",
       "    .dataframe tbody tr th {\n",
       "        vertical-align: top;\n",
       "    }\n",
       "\n",
       "    .dataframe thead th {\n",
       "        text-align: right;\n",
       "    }\n",
       "</style>\n",
       "<table border=\"1\" class=\"dataframe\">\n",
       "  <thead>\n",
       "    <tr style=\"text-align: right;\">\n",
       "      <th></th>\n",
       "      <th>engagement_type</th>\n",
       "      <th>count</th>\n",
       "      <th>pass_rate</th>\n",
       "    </tr>\n",
       "  </thead>\n",
       "  <tbody>\n",
       "    <tr>\n",
       "      <th>0</th>\n",
       "      <td>High Clicker</td>\n",
       "      <td>2595</td>\n",
       "      <td>0.789210</td>\n",
       "    </tr>\n",
       "    <tr>\n",
       "      <th>1</th>\n",
       "      <td>Low Clicker</td>\n",
       "      <td>73853229</td>\n",
       "      <td>0.809557</td>\n",
       "    </tr>\n",
       "    <tr>\n",
       "      <th>2</th>\n",
       "      <td>Moderate Clicker</td>\n",
       "      <td>54586</td>\n",
       "      <td>0.783791</td>\n",
       "    </tr>\n",
       "  </tbody>\n",
       "</table>\n",
       "</div>"
      ],
      "text/plain": [
       "    engagement_type     count  pass_rate\n",
       "0      High Clicker      2595   0.789210\n",
       "1       Low Clicker  73853229   0.809557\n",
       "2  Moderate Clicker     54586   0.783791"
      ]
     },
     "execution_count": 6,
     "metadata": {},
     "output_type": "execute_result"
    }
   ],
   "source": [
    "##### SUMMARIZE CURRICULUM PATH EFFECTIVENESS #####\n",
    "\n",
    "grouped = (\n",
    "    engagement_profile\n",
    "    .groupby('engagement_type')['final_result_binary']\n",
    "    .agg(['count', 'mean'])\n",
    "    .rename(columns={'mean': 'pass_rate'})\n",
    "    .reset_index()\n",
    ")\n",
    "\n",
    "plt.figure(figsize=(8, 5))\n",
    "sns.barplot(data=grouped, x='engagement_type', y='pass_rate')\n",
    "plt.title(\"Pass Rate by Engagement Type\")\n",
    "plt.ylim(0, 1)\n",
    "plt.ylabel(\"Pass Rate\")\n",
    "plt.xlabel(\"Engagement Profile\")\n",
    "plt.show()\n",
    "\n",
    "grouped"
   ]
  },
  {
   "cell_type": "code",
   "execution_count": 7,
   "id": "e6aed2a1",
   "metadata": {},
   "outputs": [
    {
     "data": {
      "text/html": [
       "<div>\n",
       "<style scoped>\n",
       "    .dataframe tbody tr th:only-of-type {\n",
       "        vertical-align: middle;\n",
       "    }\n",
       "\n",
       "    .dataframe tbody tr th {\n",
       "        vertical-align: top;\n",
       "    }\n",
       "\n",
       "    .dataframe thead th {\n",
       "        text-align: right;\n",
       "    }\n",
       "</style>\n",
       "<table border=\"1\" class=\"dataframe\">\n",
       "  <thead>\n",
       "    <tr style=\"text-align: right;\">\n",
       "      <th></th>\n",
       "      <th>id_student</th>\n",
       "      <th>engagement_type</th>\n",
       "      <th>curriculum_sequence</th>\n",
       "    </tr>\n",
       "  </thead>\n",
       "  <tbody>\n",
       "    <tr>\n",
       "      <th>0</th>\n",
       "      <td>11391</td>\n",
       "      <td>Low Clicker</td>\n",
       "      <td>Core Modules → Remedial Support → Skill Builde...</td>\n",
       "    </tr>\n",
       "    <tr>\n",
       "      <th>1</th>\n",
       "      <td>11391</td>\n",
       "      <td>Low Clicker</td>\n",
       "      <td>Core Modules → Remedial Support → Skill Builde...</td>\n",
       "    </tr>\n",
       "    <tr>\n",
       "      <th>2</th>\n",
       "      <td>11391</td>\n",
       "      <td>Low Clicker</td>\n",
       "      <td>Core Modules → Remedial Support → Skill Builde...</td>\n",
       "    </tr>\n",
       "    <tr>\n",
       "      <th>3</th>\n",
       "      <td>11391</td>\n",
       "      <td>Low Clicker</td>\n",
       "      <td>Core Modules → Remedial Support → Skill Builde...</td>\n",
       "    </tr>\n",
       "    <tr>\n",
       "      <th>4</th>\n",
       "      <td>11391</td>\n",
       "      <td>Low Clicker</td>\n",
       "      <td>Core Modules → Remedial Support → Skill Builde...</td>\n",
       "    </tr>\n",
       "  </tbody>\n",
       "</table>\n",
       "</div>"
      ],
      "text/plain": [
       "   id_student engagement_type  \\\n",
       "0       11391     Low Clicker   \n",
       "1       11391     Low Clicker   \n",
       "2       11391     Low Clicker   \n",
       "3       11391     Low Clicker   \n",
       "4       11391     Low Clicker   \n",
       "\n",
       "                                 curriculum_sequence  \n",
       "0  Core Modules → Remedial Support → Skill Builde...  \n",
       "1  Core Modules → Remedial Support → Skill Builde...  \n",
       "2  Core Modules → Remedial Support → Skill Builde...  \n",
       "3  Core Modules → Remedial Support → Skill Builde...  \n",
       "4  Core Modules → Remedial Support → Skill Builde...  "
      ]
     },
     "execution_count": 7,
     "metadata": {},
     "output_type": "execute_result"
    }
   ],
   "source": [
    "##### MOCK CURRICULUM SEQUENCE PER STUDENT #####\n",
    "\n",
    "# pre-convert curriculum lists into joined strings\n",
    "curriculum_paths_str = {\n",
    "    'High Clicker': 'Core Modules → Advanced Modules → Capstone Project',\n",
    "    'Moderate Clicker': 'Core Modules → Skill Builders → Capstone Project',\n",
    "    'Low Clicker': 'Core Modules → Remedial Support → Skill Builders → Capstone Project'\n",
    "}\n",
    "\n",
    "# vectorized mapping\n",
    "engagement_profile['curriculum_sequence'] = engagement_profile['engagement_type'].map(curriculum_paths_str)\n",
    "\n",
    "# show examples\n",
    "engagement_profile[['id_student', 'engagement_type', 'curriculum_sequence']].head()"
   ]
  }
 ],
 "metadata": {
  "kernelspec": {
   "display_name": "Python 3 (ipykernel)",
   "language": "python",
   "name": "python3"
  },
  "language_info": {
   "codemirror_mode": {
    "name": "ipython",
    "version": 3
   },
   "file_extension": ".py",
   "mimetype": "text/x-python",
   "name": "python",
   "nbconvert_exporter": "python",
   "pygments_lexer": "ipython3",
   "version": "3.9.12"
  }
 },
 "nbformat": 4,
 "nbformat_minor": 5
}
